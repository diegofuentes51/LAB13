{
  "nbformat": 4,
  "nbformat_minor": 0,
  "metadata": {
    "colab": {
      "provenance": [],
      "authorship_tag": "ABX9TyPgFX+51aPnA9T6zTkamAXS",
      "include_colab_link": true
    },
    "kernelspec": {
      "name": "python3",
      "display_name": "Python 3"
    },
    "language_info": {
      "name": "python"
    }
  },
  "cells": [
    {
      "cell_type": "markdown",
      "metadata": {
        "id": "view-in-github",
        "colab_type": "text"
      },
      "source": [
        "<a href=\"https://colab.research.google.com/github/diegofuentes51/LAB13/blob/main/LABORATORIO13.ipynb\" target=\"_parent\"><img src=\"https://colab.research.google.com/assets/colab-badge.svg\" alt=\"Open In Colab\"/></a>"
      ]
    },
    {
      "cell_type": "code",
      "source": [
        "# Aquí importo todas las librerías necesarias para trabajar\n",
        "import pandas as pd\n",
        "import numpy as np\n",
        "import seaborn as sns\n",
        "import matplotlib.pyplot as plt\n",
        "from sklearn.preprocessing import StandardScaler\n",
        "from sklearn.model_selection import StratifiedShuffleSplit, GridSearchCV, RandomizedSearchCV\n",
        "from sklearn.neighbors import KNeighborsClassifier\n",
        "from sklearn.svm import SVC\n",
        "from sklearn.linear_model import LogisticRegression\n",
        "from sklearn.tree import DecisionTreeClassifier\n",
        "from sklearn.ensemble import RandomForestClassifier\n",
        "from sklearn.naive_bayes import GaussianNB\n",
        "from sklearn.metrics import accuracy_score\n",
        "from imblearn.over_sampling import SMOTE\n",
        "\n",
        "# Paso 1: Cargo los datos desde el archivo CSV\n",
        "df = pd.read_csv('/content/garments_worker_productivity.csv')\n",
        "\n",
        "# Paso 2: Elimino la columna 'date', ya que no la necesito\n",
        "df = df.drop(columns=['date'])\n",
        "\n",
        "# Paso 3: Hago que la variable 'actual_productivity' sea binaria (0 o 1)\n",
        "df['actual_productivity'] = df['actual_productivity'].apply(lambda x: 1 if x >= 0.5 else 0)\n",
        "\n",
        "# Paso 4: Veo cómo están distribuidas las clases en los datos\n",
        "print(\"Distribución de clases en todo el conjunto de datos:\")\n",
        "print(df['actual_productivity'].value_counts())\n",
        "\n",
        "# Paso 5: Relleno los valores faltantes de la columna 'wip' con la media\n",
        "df['wip'] = df['wip'].fillna(df['wip'].mean())\n",
        "\n",
        "# Paso 6: Detecto y elimino los outliers utilizando el método del IQR\n",
        "numerical_cols = df.select_dtypes(include=['float64', 'int64']).columns\n",
        "Q1 = df[numerical_cols].quantile(0.25)\n",
        "Q3 = df[numerical_cols].quantile(0.75)\n",
        "IQR = Q3 - Q1\n",
        "df_cleaned = df[~((df[numerical_cols] < (Q1 - 1.5 * IQR)) | (df[numerical_cols] > (Q3 + 1.5 * IQR))).any(axis=1)]\n",
        "\n",
        "# Paso 7: Veo cómo quedaron las columnas numéricas después de eliminar los outliers\n",
        "sns.boxplot(data=df_cleaned[numerical_cols])\n",
        "plt.show()\n",
        "\n",
        "# Paso 8: Convierto las columnas categóricas en variables dummy (ficticias)\n",
        "df_cleaned = pd.get_dummies(df_cleaned, drop_first=True)\n",
        "\n",
        "# Paso 9: Escalo las columnas numéricas para que todas tengan la misma escala\n",
        "scaler = StandardScaler()\n",
        "df_cleaned[numerical_cols] = scaler.fit_transform(df_cleaned[numerical_cols])\n",
        "\n",
        "# Paso 10: Separo las variables predictoras (X) y la variable objetivo (y)\n",
        "X = df_cleaned.drop(columns=['actual_productivity'])\n",
        "y = df_cleaned['actual_productivity']\n",
        "\n",
        "# Paso 11: Divido los datos de manera estratificada para asegurarme de que ambas clases estén en el conjunto de entrenamiento\n",
        "splitter = StratifiedShuffleSplit(n_splits=1, test_size=0.2, random_state=42)\n",
        "for train_index, test_index in splitter.split(X, y):\n",
        "    X_train, X_test = X.iloc[train_index], X.iloc[test_index]\n",
        "    y_train, y_test = y.iloc[train_index], y.iloc[test_index]\n",
        "\n",
        "# Paso 12: Reviso la distribución de clases en el conjunto de entrenamiento\n",
        "print(\"Distribución de clases en y_train después de la división estratificada:\")\n",
        "print(y_train.value_counts())\n",
        "\n",
        "# Paso 13: Si las clases están muy desbalanceadas, aplico SMOTE para balancearlas\n",
        "if y_train.value_counts().shape[0] > 1:  # Solo si hay más de una clase\n",
        "    smote = SMOTE(random_state=42)\n",
        "    X_train_res, y_train_res = smote.fit_resample(X_train, y_train)\n",
        "    print(\"Distribución de clases después de SMOTE:\")\n",
        "    print(pd.Series(y_train_res).value_counts())\n",
        "else:\n",
        "    # Si no se aplica SMOTE, simplemente uso los datos originales\n",
        "    X_train_res, y_train_res = X_train, y_train\n",
        "    print(\"No es necesario aplicar SMOTE, ya que solo hay una clase en el conjunto de entrenamiento.\")\n",
        "\n",
        "# Paso 14: Me aseguro de que haya más de una clase en el conjunto de entrenamiento\n",
        "if y_train_res.value_counts().shape[0] > 1:\n",
        "    # Paso 15: Inicializo los modelos que voy a usar\n",
        "    models = {\n",
        "        \"k-NN\": KNeighborsClassifier(),\n",
        "        \"SVM\": SVC(),\n",
        "        \"Logistic Regression\": LogisticRegression(),\n",
        "        \"Decision Tree\": DecisionTreeClassifier(),\n",
        "        \"Random Forest\": RandomForestClassifier(),\n",
        "        \"Naive Bayes\": GaussianNB()\n",
        "    }\n",
        "\n",
        "    # Paso 16: Entreno y evalúo cada modelo\n",
        "    for model_name, model in models.items():\n",
        "        model.fit(X_train_res, y_train_res)  # Entreno con los datos balanceados o originales\n",
        "        y_pred = model.predict(X_test)\n",
        "        accuracy = accuracy_score(y_test, y_pred)\n",
        "        print(f\"Accuracy {model_name}: {accuracy}\")\n",
        "\n",
        "    # Paso 17: Busco los mejores hiperparámetros para los modelos k-NN y SVM\n",
        "    param_grid_knn = {'n_neighbors': [3, 5, 7, 9], 'weights': ['uniform', 'distance']}\n",
        "    grid_search_knn = GridSearchCV(KNeighborsClassifier(), param_grid_knn, cv=5)\n",
        "    grid_search_knn.fit(X_train_res, y_train_res)\n",
        "    print(\"Mejores hiperparámetros para k-NN:\", grid_search_knn.best_params_)\n",
        "\n",
        "    param_dist_svm = {'C': [0.1, 1, 10], 'kernel': ['linear', 'rbf']}\n",
        "    random_search_svm = RandomizedSearchCV(SVC(), param_dist_svm, n_iter=10, cv=5)\n",
        "    random_search_svm.fit(X_train_res, y_train_res)\n",
        "    print(\"Mejores hiperparámetros para SVM:\", random_search_svm.best_params_)\n",
        "\n",
        "    # Paso 18: Evaluación del modelo con los mejores hiperparámetros\n",
        "    best_knn_model = grid_search_knn.best_estimator_\n",
        "    y_pred_best_knn = best_knn_model.predict(X_test)\n",
        "    best_knn_accuracy = accuracy_score(y_test, y_pred_best_knn)\n",
        "    print(f\"Mejor accuracy para k-NN con hiperparámetros óptimos: {best_knn_accuracy}\")\n",
        "\n",
        "    best_svm_model = random_search_svm.best_estimator_\n",
        "    y_pred_best_svm = best_svm_model.predict(X_test)\n",
        "    best_svm_accuracy = accuracy_score(y_test, y_pred_best_svm)\n",
        "    print(f\"Mejor accuracy para SVM con hiperparámetros óptimos: {best_svm_accuracy}\")\n",
        "\n",
        "else:\n",
        "    print(\"El conjunto de entrenamiento sigue teniendo solo una clase. Es necesario revisar los datos y la división.\")\n"
      ],
      "metadata": {
        "colab": {
          "base_uri": "https://localhost:8080/",
          "height": 621
        },
        "id": "Ygq9QM9hKnRr",
        "outputId": "63ddb09c-715f-42d2-ccf8-350cd72f1019"
      },
      "execution_count": 20,
      "outputs": [
        {
          "output_type": "stream",
          "name": "stdout",
          "text": [
            "Distribución de clases en todo el conjunto de datos:\n",
            "actual_productivity\n",
            "1    1064\n",
            "0     133\n",
            "Name: count, dtype: int64\n"
          ]
        },
        {
          "output_type": "display_data",
          "data": {
            "text/plain": [
              "<Figure size 640x480 with 1 Axes>"
            ],
            "image/png": "[encoded data removed]"
          },
          "metadata": {}
        },
        {
          "output_type": "stream",
          "name": "stdout",
          "text": [
            "Distribución de clases en y_train después de la división estratificada:\n",
            "actual_productivity\n",
            "0.0    634\n",
            "Name: count, dtype: int64\n",
            "No es necesario aplicar SMOTE, ya que solo hay una clase en el conjunto de entrenamiento.\n",
            "El conjunto de entrenamiento sigue teniendo solo una clase. Es necesario revisar los datos y la división.\n"
          ]
        }
      ]
    }
  ]
}